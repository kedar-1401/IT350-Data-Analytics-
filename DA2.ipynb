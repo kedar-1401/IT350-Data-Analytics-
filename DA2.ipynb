{
 "cells": [
  {
   "cell_type": "code",
   "execution_count": 1,
   "metadata": {
    "executionInfo": {
     "elapsed": 15601,
     "status": "ok",
     "timestamp": 1737873021922,
     "user": {
      "displayName": "Praveen Kumar",
      "userId": "09491502605112860981"
     },
     "user_tz": -330
    },
    "id": "k7ClTymiTSsd"
   },
   "outputs": [],
   "source": [
    "from sklearn.datasets import load_iris\n",
    "from sklearn.model_selection import train_test_split, cross_val_score, cross_validate\n",
    "from sklearn.neighbors import KNeighborsClassifier\n",
    "from sklearn.metrics import precision_score, recall_score, f1_score, accuracy_score, confusion_matrix, make_scorer\n",
    "import pandas as pd\n",
    "import numpy as np"
   ]
  },
  {
   "cell_type": "code",
   "execution_count": 2,
   "metadata": {
    "executionInfo": {
     "elapsed": 8,
     "status": "ok",
     "timestamp": 1737873021923,
     "user": {
      "displayName": "Praveen Kumar",
      "userId": "09491502605112860981"
     },
     "user_tz": -330
    },
    "id": "eFQ-g9m3TW7f"
   },
   "outputs": [],
   "source": [
    "iris = load_iris()\n",
    "X = pd.DataFrame(iris.data, columns=iris.feature_names)\n",
    "y = pd.Series(iris.target)"
   ]
  },
  {
   "cell_type": "code",
   "execution_count": 3,
   "metadata": {
    "executionInfo": {
     "elapsed": 6,
     "status": "ok",
     "timestamp": 1737873021923,
     "user": {
      "displayName": "Praveen Kumar",
      "userId": "09491502605112860981"
     },
     "user_tz": -330
    },
    "id": "ivwJoi9xTYpV"
   },
   "outputs": [],
   "source": [
    "X_train, X_test, y_train, y_test = train_test_split(X, y,test_size=0.2, random_state=2)"
   ]
  },
  {
   "cell_type": "code",
   "execution_count": 5,
   "metadata": {
    "executionInfo": {
     "elapsed": 536,
     "status": "ok",
     "timestamp": 1737873070929,
     "user": {
      "displayName": "Praveen Kumar",
      "userId": "09491502605112860981"
     },
     "user_tz": -330
    },
    "id": "jqGPVDWYTg85"
   },
   "outputs": [],
   "source": [
    "def print_performance(y_pred):\n",
    "  acc = accuracy_score(y_test, y_pred)\n",
    "  precision = precision_score(y_test, y_pred, average='weighted')\n",
    "  recall = recall_score(y_test, y_pred, average='weighted')\n",
    "  f1 = f1_score(y_test, y_pred, average='weighted')\n",
    "  conf_matrix = confusion_matrix(y_test, y_pred)\n",
    "\n",
    "  print(f\"Accuracy: {acc * 100:.2f}%\")\n",
    "  print(f\"Precision: {precision:.2f}\")\n",
    "  print(f\"Recall: {recall:.2f}\")\n",
    "  print(f\"F1-Score: {f1:.2f}\")\n",
    "  print(\"Confusion Matrix:\")\n",
    "  print(conf_matrix)\n"
   ]
  },
  {
   "cell_type": "markdown",
   "metadata": {
    "id": "FZtTH_maT27X"
   },
   "source": [
    "###KNN classifier without 10 fold cross validation ( using library )"
   ]
  },
  {
   "cell_type": "code",
   "execution_count": 6,
   "metadata": {
    "colab": {
     "base_uri": "https://localhost:8080/"
    },
    "executionInfo": {
     "elapsed": 359,
     "status": "ok",
     "timestamp": 1737873083911,
     "user": {
      "displayName": "Praveen Kumar",
      "userId": "09491502605112860981"
     },
     "user_tz": -330
    },
    "id": "h1JpuJrRTaea",
    "outputId": "ded7e80d-1141-4ea2-918c-6a308ec69e7c"
   },
   "outputs": [
    {
     "name": "stdout",
     "output_type": "stream",
     "text": [
      "Accuracy: 100.00%\n",
      "Precision: 1.00\n",
      "Recall: 1.00\n",
      "F1-Score: 1.00\n",
      "Confusion Matrix:\n",
      "[[14  0  0]\n",
      " [ 0  8  0]\n",
      " [ 0  0  8]]\n"
     ]
    }
   ],
   "source": [
    "k = 3 # adjust the value of k here\n",
    "knn = KNeighborsClassifier(k)\n",
    "knn.fit(X_train,y_train)\n",
    "\n",
    "y_pred = knn.predict(X_test)\n",
    "print_performance(y_pred)\n"
   ]
  },
  {
   "cell_type": "code",
   "execution_count": 7,
   "metadata": {
    "colab": {
     "base_uri": "https://localhost:8080/"
    },
    "executionInfo": {
     "elapsed": 356,
     "status": "ok",
     "timestamp": 1737873092579,
     "user": {
      "displayName": "Praveen Kumar",
      "userId": "09491502605112860981"
     },
     "user_tz": -330
    },
    "id": "oU3_G1YhTe4S",
    "outputId": "7bc3c5aa-30e3-43f0-b78a-8b3929af64a8"
   },
   "outputs": [
    {
     "name": "stdout",
     "output_type": "stream",
     "text": [
      "Accuracy: 100.00%\n",
      "Precision: 1.00\n",
      "Recall: 1.00\n",
      "F1-Score: 1.00\n",
      "Confusion Matrix:\n",
      "[[14  0  0]\n",
      " [ 0  8  0]\n",
      " [ 0  0  8]]\n"
     ]
    }
   ],
   "source": [
    "k = 5 # adjust the value of k here\n",
    "knn = KNeighborsClassifier(k)\n",
    "knn.fit(X_train,y_train)\n",
    "\n",
    "y_pred = knn.predict(X_test)\n",
    "print_performance(y_pred)"
   ]
  },
  {
   "cell_type": "markdown",
   "metadata": {
    "id": "jojfMT8ET89S"
   },
   "source": [
    "###KNN classifier with 10 fold cross validation ( using library )"
   ]
  },
  {
   "cell_type": "code",
   "execution_count": 10,
   "metadata": {
    "executionInfo": {
     "elapsed": 347,
     "status": "ok",
     "timestamp": 1737873406373,
     "user": {
      "displayName": "Praveen Kumar",
      "userId": "09491502605112860981"
     },
     "user_tz": -330
    },
    "id": "aw-Ijyp-UwQ8"
   },
   "outputs": [],
   "source": [
    "def print_evaluation(cv_results):\n",
    "  print(\"Evaluation Metrics (10-Fold Cross-Validation):\")\n",
    "  print(f\"Accuracy: {cv_results['test_accuracy'].mean():.4f}\")\n",
    "  print(f\"Precision (Macro): {cv_results['test_precision_macro'].mean():.4f}\")\n",
    "  print(f\"Recall (Macro): {cv_results['test_recall_macro'].mean():.4f}\")\n",
    "  print(f\"F1-Score (Macro): {cv_results['test_f1_macro'].mean():.4f}\")"
   ]
  },
  {
   "cell_type": "code",
   "execution_count": 13,
   "metadata": {
    "colab": {
     "base_uri": "https://localhost:8080/"
    },
    "executionInfo": {
     "elapsed": 379,
     "status": "ok",
     "timestamp": 1737874467412,
     "user": {
      "displayName": "Praveen Kumar",
      "userId": "09491502605112860981"
     },
     "user_tz": -330
    },
    "id": "5pcHG3jKTuv7",
    "outputId": "7021a6a1-a18f-4cc7-bbeb-edfe1e4219ef"
   },
   "outputs": [
    {
     "name": "stdout",
     "output_type": "stream",
     "text": [
      "Evaluation Metrics (10-Fold Cross-Validation):\n",
      "Accuracy: 0.9667\n",
      "Precision (Macro): 0.9738\n",
      "Recall (Macro): 0.9667\n",
      "F1-Score (Macro): 0.9659\n"
     ]
    }
   ],
   "source": [
    "k = 3\n",
    "knn = KNeighborsClassifier(n_neighbors=k)\n",
    "\n",
    "# Perform 10-fold cross-validation and compute evaluation metrics\n",
    "scoring = ['accuracy', 'precision_macro', 'recall_macro', 'f1_macro']\n",
    "cv_results = cross_validate(knn, X, y, cv=10, scoring=scoring)\n",
    "print_evaluation(cv_results)\n"
   ]
  },
  {
   "cell_type": "code",
   "execution_count": 14,
   "metadata": {
    "colab": {
     "base_uri": "https://localhost:8080/"
    },
    "executionInfo": {
     "elapsed": 410,
     "status": "ok",
     "timestamp": 1737874470681,
     "user": {
      "displayName": "Praveen Kumar",
      "userId": "09491502605112860981"
     },
     "user_tz": -330
    },
    "id": "gq6PIDfoUmMl",
    "outputId": "6d2c4f8d-9fa0-4860-8b15-ace99e2e0010"
   },
   "outputs": [
    {
     "name": "stdout",
     "output_type": "stream",
     "text": [
      "Evaluation Metrics (10-Fold Cross-Validation):\n",
      "Accuracy: 0.9667\n",
      "Precision (Macro): 0.9738\n",
      "Recall (Macro): 0.9667\n",
      "F1-Score (Macro): 0.9659\n"
     ]
    }
   ],
   "source": [
    "k = 5\n",
    "knn = KNeighborsClassifier(n_neighbors=k)\n",
    "\n",
    "# Perform 10-fold cross-validation and compute evaluation metrics\n",
    "scoring = ['accuracy', 'precision_macro', 'recall_macro', 'f1_macro']\n",
    "cv_results = cross_validate(knn, X, y, cv=10, scoring=scoring)\n",
    "print_evaluation(cv_results)\n"
   ]
  },
  {
   "cell_type": "code",
   "execution_count": null,
   "metadata": {
    "id": "AUw9jQ4YUoQU"
   },
   "outputs": [],
   "source": []
  }
 ],
 "metadata": {
  "colab": {
   "authorship_tag": "ABX9TyMXPR+zSQGBRGh42jMVlAYC",
   "provenance": [],
   "toc_visible": true
  },
  "kernelspec": {
   "display_name": "Python 3",
   "name": "python3"
  },
  "language_info": {
   "name": "python"
  }
 },
 "nbformat": 4,
 "nbformat_minor": 0
}
